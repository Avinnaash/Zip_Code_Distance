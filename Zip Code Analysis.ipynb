{
 "cells": [
  {
   "cell_type": "markdown",
   "metadata": {},
   "source": [
    "# Calculate Distance between two Zip Codes\n",
    "\n",
    "#### The code below is a simple calculation to find the distance between two lat and long points using data from the National Bureau of Economic Research - https://www.nber.org/data/zip-code-distance-database.html"
   ]
  },
  {
   "cell_type": "code",
   "execution_count": 1,
   "metadata": {},
   "outputs": [],
   "source": [
    "import pandas as pd\n",
    "df = pd.read_csv('gaz2016zcta5centroid.csv')"
   ]
  },
  {
   "cell_type": "code",
   "execution_count": 2,
   "metadata": {},
   "outputs": [
    {
     "data": {
      "text/html": [
       "<div>\n",
       "<style scoped>\n",
       "    .dataframe tbody tr th:only-of-type {\n",
       "        vertical-align: middle;\n",
       "    }\n",
       "\n",
       "    .dataframe tbody tr th {\n",
       "        vertical-align: top;\n",
       "    }\n",
       "\n",
       "    .dataframe thead th {\n",
       "        text-align: right;\n",
       "    }\n",
       "</style>\n",
       "<table border=\"1\" class=\"dataframe\">\n",
       "  <thead>\n",
       "    <tr style=\"text-align: right;\">\n",
       "      <th></th>\n",
       "      <th>intptlat</th>\n",
       "      <th>intptlong</th>\n",
       "      <th>zcta5</th>\n",
       "    </tr>\n",
       "  </thead>\n",
       "  <tbody>\n",
       "    <tr>\n",
       "      <th>0</th>\n",
       "      <td>18.180555</td>\n",
       "      <td>-66.749962</td>\n",
       "      <td>601</td>\n",
       "    </tr>\n",
       "    <tr>\n",
       "      <th>1</th>\n",
       "      <td>18.361944</td>\n",
       "      <td>-67.175598</td>\n",
       "      <td>602</td>\n",
       "    </tr>\n",
       "    <tr>\n",
       "      <th>2</th>\n",
       "      <td>18.455183</td>\n",
       "      <td>-67.119888</td>\n",
       "      <td>603</td>\n",
       "    </tr>\n",
       "    <tr>\n",
       "      <th>3</th>\n",
       "      <td>18.158344</td>\n",
       "      <td>-66.932915</td>\n",
       "      <td>606</td>\n",
       "    </tr>\n",
       "    <tr>\n",
       "      <th>4</th>\n",
       "      <td>18.295366</td>\n",
       "      <td>-67.125137</td>\n",
       "      <td>610</td>\n",
       "    </tr>\n",
       "  </tbody>\n",
       "</table>\n",
       "</div>"
      ],
      "text/plain": [
       "    intptlat  intptlong  zcta5\n",
       "0  18.180555 -66.749962    601\n",
       "1  18.361944 -67.175598    602\n",
       "2  18.455183 -67.119888    603\n",
       "3  18.158344 -66.932915    606\n",
       "4  18.295366 -67.125137    610"
      ]
     },
     "execution_count": 2,
     "metadata": {},
     "output_type": "execute_result"
    }
   ],
   "source": [
    "df.head()"
   ]
  },
  {
   "cell_type": "code",
   "execution_count": 3,
   "metadata": {},
   "outputs": [],
   "source": [
    "## Grabbing 2 records to test\n",
    "df1 = df[400:401]\n",
    "df2 = df[999:1000]"
   ]
  },
  {
   "cell_type": "code",
   "execution_count": 4,
   "metadata": {},
   "outputs": [
    {
     "data": {
      "text/html": [
       "<div>\n",
       "<style scoped>\n",
       "    .dataframe tbody tr th:only-of-type {\n",
       "        vertical-align: middle;\n",
       "    }\n",
       "\n",
       "    .dataframe tbody tr th {\n",
       "        vertical-align: top;\n",
       "    }\n",
       "\n",
       "    .dataframe thead th {\n",
       "        text-align: right;\n",
       "    }\n",
       "</style>\n",
       "<table border=\"1\" class=\"dataframe\">\n",
       "  <thead>\n",
       "    <tr style=\"text-align: right;\">\n",
       "      <th></th>\n",
       "      <th>lat1</th>\n",
       "      <th>long1</th>\n",
       "      <th>zip1</th>\n",
       "      <th>lat2</th>\n",
       "      <th>long2</th>\n",
       "      <th>zip2</th>\n",
       "    </tr>\n",
       "  </thead>\n",
       "  <tbody>\n",
       "    <tr>\n",
       "      <th>400</th>\n",
       "      <td>42.673908</td>\n",
       "      <td>-71.091331</td>\n",
       "      <td>1845.0</td>\n",
       "      <td>43.014996</td>\n",
       "      <td>-70.902588</td>\n",
       "      <td>3885.0</td>\n",
       "    </tr>\n",
       "  </tbody>\n",
       "</table>\n",
       "</div>"
      ],
      "text/plain": [
       "          lat1      long1    zip1       lat2      long2    zip2\n",
       "400  42.673908 -71.091331  1845.0  43.014996 -70.902588  3885.0"
      ]
     },
     "execution_count": 4,
     "metadata": {},
     "output_type": "execute_result"
    }
   ],
   "source": [
    "## concating them to be in the same row\n",
    "test = pd.concat([df1, df2], axis=1)\n",
    "test = test.fillna(method='bfill')\n",
    "test = test[0:1]\n",
    "test.columns = ['lat1','long1','zip1','lat2','long2','zip2']\n",
    "test"
   ]
  },
  {
   "cell_type": "code",
   "execution_count": 5,
   "metadata": {},
   "outputs": [],
   "source": [
    "## Using Haversine formula\n",
    "\n",
    "import math\n",
    "\n",
    "def distance(lat1,lon1,lat2,lon2):\n",
    "    radius = 6371 # km\n",
    "\n",
    "    dlat = math.radians(lat2-lat1)\n",
    "    dlon = math.radians(lon2-lon1)\n",
    "    step1 = math.sin(dlat/2) * math.sin(dlat/2) + math.cos(math.radians(lat1)) \\\n",
    "        * math.cos(math.radians(lat2)) * math.sin(dlon/2) * math.sin(dlon/2)\n",
    "    step2 = 2 * math.atan2(math.sqrt(step1), math.sqrt(1-step1))\n",
    "    step3 = radius * step2\n",
    "\n",
    "    return step3"
   ]
  },
  {
   "cell_type": "code",
   "execution_count": 6,
   "metadata": {},
   "outputs": [],
   "source": [
    "test['Distance in km'] = distance(test['lat1'],test['long1'],test['lat2'],test['long2'])\n",
    "\n",
    "\n",
    "## Conver to miles \n",
    "test['Distance in miles'] = test['Distance in km']/1.609344"
   ]
  },
  {
   "cell_type": "code",
   "execution_count": 7,
   "metadata": {},
   "outputs": [
    {
     "data": {
      "text/html": [
       "<div>\n",
       "<style scoped>\n",
       "    .dataframe tbody tr th:only-of-type {\n",
       "        vertical-align: middle;\n",
       "    }\n",
       "\n",
       "    .dataframe tbody tr th {\n",
       "        vertical-align: top;\n",
       "    }\n",
       "\n",
       "    .dataframe thead th {\n",
       "        text-align: right;\n",
       "    }\n",
       "</style>\n",
       "<table border=\"1\" class=\"dataframe\">\n",
       "  <thead>\n",
       "    <tr style=\"text-align: right;\">\n",
       "      <th></th>\n",
       "      <th>lat1</th>\n",
       "      <th>long1</th>\n",
       "      <th>zip1</th>\n",
       "      <th>lat2</th>\n",
       "      <th>long2</th>\n",
       "      <th>zip2</th>\n",
       "      <th>Distance in km</th>\n",
       "      <th>Distance in miles</th>\n",
       "    </tr>\n",
       "  </thead>\n",
       "  <tbody>\n",
       "    <tr>\n",
       "      <th>400</th>\n",
       "      <td>42.673908</td>\n",
       "      <td>-71.091331</td>\n",
       "      <td>1845.0</td>\n",
       "      <td>43.014996</td>\n",
       "      <td>-70.902588</td>\n",
       "      <td>3885.0</td>\n",
       "      <td>40.929915</td>\n",
       "      <td>25.43267</td>\n",
       "    </tr>\n",
       "  </tbody>\n",
       "</table>\n",
       "</div>"
      ],
      "text/plain": [
       "          lat1      long1    zip1       lat2      long2    zip2  \\\n",
       "400  42.673908 -71.091331  1845.0  43.014996 -70.902588  3885.0   \n",
       "\n",
       "     Distance in km  Distance in miles  \n",
       "400       40.929915           25.43267  "
      ]
     },
     "execution_count": 7,
     "metadata": {},
     "output_type": "execute_result"
    }
   ],
   "source": [
    "test"
   ]
  }
 ],
 "metadata": {
  "kernelspec": {
   "display_name": "Python 3",
   "language": "python",
   "name": "python3"
  },
  "language_info": {
   "codemirror_mode": {
    "name": "ipython",
    "version": 3
   },
   "file_extension": ".py",
   "mimetype": "text/x-python",
   "name": "python",
   "nbconvert_exporter": "python",
   "pygments_lexer": "ipython3",
   "version": "3.6.5"
  }
 },
 "nbformat": 4,
 "nbformat_minor": 2
}
